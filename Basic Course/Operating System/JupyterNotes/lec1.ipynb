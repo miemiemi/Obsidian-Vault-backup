{
 "cells": [
  {
   "cell_type": "code",
   "execution_count": null,
   "metadata": {},
   "outputs": [],
   "source": []
  }
 ],
 "metadata": {
  "kernelspec": {
   "display_name": "base",
   "language": "python",
   "name": "python3"
  },
  "language_info": {
   "name": "python",
   "version": "3.9.13"
  },
  "orig_nbformat": 4,
  "vscode": {
   "interpreter": {
    "hash": "03a3eef883e49c91a8ac76f4a10da6bdf2804e3b7e4ce0e820991bed9ab528cb"
   }
  }
 },
 "nbformat": 4,
 "nbformat_minor": 2
}
